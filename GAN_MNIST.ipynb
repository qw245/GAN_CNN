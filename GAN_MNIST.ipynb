{
 "cells": [
  {
   "cell_type": "code",
   "execution_count": 1,
   "metadata": {},
   "outputs": [
    {
     "name": "stdout",
     "output_type": "stream",
     "text": [
      "Extracting MNIST_data/train-images-idx3-ubyte.gz\n",
      "Extracting MNIST_data/train-labels-idx1-ubyte.gz\n",
      "Extracting MNIST_data/t10k-images-idx3-ubyte.gz\n",
      "Extracting MNIST_data/t10k-labels-idx1-ubyte.gz\n"
     ]
    }
   ],
   "source": [
    "import tensorflow as tf\n",
    "from tensorflow.examples.tutorials.mnist import input_data\n",
    "import numpy as np\n",
    "import matplotlib.pyplot as plt\n",
    "import matplotlib.gridspec as gridspec\n",
    "import os\n",
    "from scipy.misc import imread, imresize, imsave\n",
    "import tensorflow.contrib.layers as layers\n",
    "\n",
    "GPUID = 0\n",
    "os.environ[\"CUDA_VISIBLE_DEVICES\"] = str(GPUID)\n",
    "__author__ = 'qi.wei@siemens.com'\n",
    "\n",
    "mb_size = 144\n",
    "X_dim = 784\n",
    "Z_dim = 16\n",
    "h_dim = 128\n",
    "\n",
    "mnist = input_data.read_data_sets('MNIST_data', one_hot=True)\n",
    "tf.reset_default_graph()  "
   ]
  },
  {
   "cell_type": "code",
   "execution_count": 2,
   "metadata": {
    "collapsed": true
   },
   "outputs": [],
   "source": [
    "def save_model(model_path, saver, sess, step):\n",
    "    \"\"\"\n",
    "    save model with path error checking\n",
    "    \"\"\"\n",
    "    if model_path is None:\n",
    "        my_path = \"model/myckpt\" # default path in tensorflow saveV2 format\n",
    "        # try to make directory\n",
    "        if not os.path.exists(\"model\"):\n",
    "            try:\n",
    "                os.makedirs(\"model\")\n",
    "            except OSError as e:\n",
    "                if e.errno != errno.EEXIST:\n",
    "                    raise\n",
    "    else: \n",
    "        my_path = model_path\n",
    "    saver.save(sess, my_path, global_step=step)\n",
    "        \n",
    "def plot(samples,n):\n",
    "    fig = plt.figure(figsize=(n, n))\n",
    "    gs = gridspec.GridSpec(n, n)\n",
    "    gs.update(wspace=0.05, hspace=0.05)\n",
    "\n",
    "    for i, sample in enumerate(samples):\n",
    "        ax = plt.subplot(gs[i])\n",
    "        plt.axis('off')\n",
    "        ax.set_xticklabels([])\n",
    "        ax.set_yticklabels([])\n",
    "        ax.set_aspect('equal')\n",
    "        plt.imshow(sample.reshape(28, 28), cmap='Greys_r')\n",
    "\n",
    "    return fig"
   ]
  },
  {
   "cell_type": "code",
   "execution_count": 3,
   "metadata": {
    "collapsed": true
   },
   "outputs": [],
   "source": [
    "def xavier_init(size):\n",
    "    in_dim = size[0]\n",
    "    xavier_stddev = 1. / tf.sqrt(in_dim / 2.)\n",
    "    return tf.random_normal(shape=size, stddev=xavier_stddev)\n",
    "\n",
    "def weight_variable(shape):  \n",
    "    initial = tf.truncated_normal(shape,stddev=0.1) #截断正态分布，此函数原型为尺寸、均值、标准差  \n",
    "    return tf.Variable(initial)  \n",
    "def bias_variable(shape):  \n",
    "#     initial = tf.constant(0.1,shape=shape)  \n",
    "    initial = tf.constant(0.0,shape=shape)  \n",
    "    return tf.Variable(initial)  "
   ]
  },
  {
   "cell_type": "code",
   "execution_count": 4,
   "metadata": {
    "collapsed": true
   },
   "outputs": [],
   "source": [
    "X = tf.placeholder(tf.float32, shape=[None, X_dim])\n",
    "\n",
    "# D_W1 = tf.Variable(xavier_init([X_dim, h_dim]))\n",
    "# D_b1 = tf.Variable(tf.zeros(shape=[h_dim]))\n",
    "\n",
    "# D_W2 = tf.Variable(xavier_init([256, 128]))\n",
    "# D_b2 = tf.Variable(tf.zeros(shape=[1]))\n",
    "\n",
    "# D_W3 = tf.Variable(xavier_init([h_dim, 1]))\n",
    "# D_b3 = tf.Variable(tf.zeros(shape=[1]))\n",
    "with tf.variable_scope(\"discriminator\"):\n",
    "    DW_conv1 = weight_variable([3, 3, 1, 32])\n",
    "    Db_conv1 = bias_variable([32])\n",
    "\n",
    "    DW_conv2 = weight_variable([3, 3, 32, 64])\n",
    "    Db_conv2 = bias_variable([64])\n",
    "\n",
    "    DW_conv3 = weight_variable([3, 3, 64, 128])\n",
    "    Db_conv3 = bias_variable([128])\n",
    "    \n",
    "    DW_conv4 = weight_variable([3, 3, 128, 1])\n",
    "    Db_conv4 = bias_variable([1])\n",
    "\n",
    "#     DW_fc4 = weight_variable([3*3*128,128])  \n",
    "#     Db_fc4 = bias_variable([128])  \n",
    "\n",
    "#     DW_fc5 = weight_variable([128,1])  \n",
    "#     Db_fc5 = bias_variable([1])\n",
    "\n",
    "    #theta_D = [D_W1, D_W2, D_W3, D_b1, D_b2, D_b3]\n",
    "    theta_D = [DW_conv1, DW_conv2, DW_conv3, DW_conv4, Db_conv1, Db_conv2, Db_conv3, Db_conv4] #DW_fc4, DW_fc5, Db_fc4, Db_fc5"
   ]
  },
  {
   "cell_type": "code",
   "execution_count": 5,
   "metadata": {
    "collapsed": true
   },
   "outputs": [],
   "source": [
    "Z = tf.placeholder(tf.float32, shape=[None, 1, 1, Z_dim])\n",
    "\n",
    "# G_W1 = tf.Variable(xavier_init([Z_dim, h_dim]))\n",
    "# G_b1 = tf.Variable(tf.zeros(shape=[h_dim]))\n",
    "\n",
    "# G_W2 = tf.Variable(xavier_init([128, 256]))\n",
    "# G_b2 = tf.Variable(tf.zeros(shape=[256]))\n",
    "\n",
    "# G_W3 = tf.Variable(xavier_init([h_dim, X_dim]))\n",
    "# G_b3 = tf.Variable(tf.zeros(shape=[X_dim]))\n",
    "\n",
    "# theta_G = [G_W1, G_b1, G_W2, G_b2, G_W3, G_b3]\n",
    "\n",
    "with tf.variable_scope(\"generator\"):\n",
    "#     GW_fc1 = weight_variable([Z_dim,h_dim])\n",
    "#     Gb_fc1 = bias_variable([h_dim])\n",
    "\n",
    "#     GW_fc2 = weight_variable([h_dim,7*7*128])\n",
    "#     Gb_fc2 = bias_variable([7*7*128])\n",
    "    \n",
    "    GW_conv1 = weight_variable([3, 3, 64, Z_dim])\n",
    "    Gb_conv1 = bias_variable([64])\n",
    "    \n",
    "    GW_conv2 = weight_variable([3, 3, 32, 64])\n",
    "    Gb_conv2 = bias_variable([32])\n",
    "\n",
    "# GW_conv3 = weight_variable([1, 1, 256, 256])\n",
    "# Gb_conv3 = bias_variable([256])\n",
    "\n",
    "    GW_conv4 = weight_variable([3, 3, 16, 32])\n",
    "    Gb_conv4 = bias_variable([16])\n",
    "\n",
    "    GW_conv5 = weight_variable([3, 3, 1, 16])\n",
    "    Gb_conv5 = bias_variable([1])\n",
    "\n",
    "    theta_G = [GW_conv1, Gb_conv1, GW_conv2, Gb_conv2, GW_conv4, Gb_conv4, GW_conv5, Gb_conv5] #  GW_conv3, Gb_conv3,  GW_fc1, Gb_fc1, GW_fc2, Gb_fc2"
   ]
  },
  {
   "cell_type": "code",
   "execution_count": 6,
   "metadata": {
    "collapsed": true
   },
   "outputs": [],
   "source": [
    "def sample_Z(m, n):\n",
    "    return np.random.uniform(-1., 1., size=[m, 1, 1, n])"
   ]
  },
  {
   "cell_type": "code",
   "execution_count": 7,
   "metadata": {
    "collapsed": true
   },
   "outputs": [],
   "source": [
    "def generator(z):\n",
    "#     G_h1 = tf.nn.relu(tf.matmul(z, G_W1) + G_b1)\n",
    "#     #G_h2 = tf.nn.relu(tf.matmul(G_h1, G_W2) + G_b2)\n",
    "#     G_log_prob = tf.matmul(G_h1, G_W3) + G_b3\n",
    "#     G_prob = tf.nn.sigmoid(G_log_prob)\n",
    "\n",
    "#     G_h1 = tf.nn.relu(tf.matmul(z,GW_fc1) + Gb_fc1)\n",
    "#     G_h2 = tf.matmul(G_h1,GW_fc2) + Gb_fc2\n",
    "#     h_pool_tensor = tf.reshape(G_h2, [-1,7,7,128])\n",
    "#     #h_pool_tensor = tf.reshape(G_h2, [-1,28*28*1])\n",
    "#     print h_pool_tensor.get_shape()\n",
    "#     bs = tf.shape(h_pool_tensor)[0]\n",
    "\n",
    "    bs = tf.shape(z)[0]\n",
    "    G_h1 = tf.nn.relu(tf.nn.conv2d_transpose(z, GW_conv1, output_shape=[bs, 3, 3, 64], \n",
    "                                                               strides=[1, 2, 2, 1], padding='VALID') + Gb_conv1)\n",
    "    G_h2 = tf.nn.relu(layers.batch_norm(tf.nn.conv2d_transpose(G_h1, GW_conv2, output_shape=[bs,7,7,32], \n",
    "                                                               strides=[1, 2, 2, 1], padding='VALID') + Gb_conv2))\n",
    "\n",
    "#     G_h3 = tf.nn.relu(tf.nn.conv2d_transpose(h_pool_tensor, GW_conv3, output_shape=[bs,7,7,256], strides=[1, 1, 1, 1], padding='VALID') + Gb_conv3)\n",
    "#     print G_h3.get_shape()\n",
    "    G_h4 = tf.nn.relu(layers.batch_norm(tf.nn.conv2d_transpose(G_h2, GW_conv4, output_shape=[bs,14,14,16], \n",
    "                                                               strides=[1, 2, 2, 1], padding='SAME') + Gb_conv4))\n",
    "    print G_h4.get_shape()\n",
    "    G_log_prob = tf.nn.conv2d_transpose(G_h4, GW_conv5, output_shape=[bs,28,28,1],\n",
    "                                                          strides=[1, 2, 2, 1], padding='SAME') + Gb_conv5\n",
    "    G_prob = tf.nn.sigmoid(tf.reshape(G_log_prob, [-1,28*28*1]))\n",
    "    print G_prob.get_shape()\n",
    "    \n",
    "\n",
    "#     bs = tf.shape(x)[0]\n",
    "#     Bn = True\n",
    "#     deconv0 = deconv2d(z, [bs, 4, 4, Cc], 4, 4, 1, 1, bias=not Bn, padding='VALID')\n",
    "#     deconv0 = tf.nn.relu(layers.batch_norm(deconv0)) if Bn else tf.nn.relu(deconv0)\n",
    "#     deconv1 = deconv2d(deconv0, [self.batch_size, 7, 7, int(Cc/2)], f_h, f_w, 2, 2, bias=not Bn, padding='SAME')\n",
    "#     deconv1 = tf.nn.relu(layers.batch_norm(deconv1)) if Bn else tf.nn.relu(deconv1)\n",
    "#     deconv2 = deconv2d(deconv1, [self.batch_size, 14, 14, int(Cc/4)], f_h, f_w, 2, 2, bias=not Bn, padding='SAME')\n",
    "#     deconv2 = tf.nn.relu(layers.batch_norm(deconv2)) if Bn else tf.nn.relu(deconv2)\n",
    "#     deconv3 = deconv2d(deconv2, [self.batch_size, 28, 28, self.C], f_h, f_w, 2, 2, bias=not Bn, padding='SAME') #int(Cc/4)\n",
    "       \n",
    "    return G_prob"
   ]
  },
  {
   "cell_type": "code",
   "execution_count": 8,
   "metadata": {
    "collapsed": true
   },
   "outputs": [],
   "source": [
    "def discriminator(x):\n",
    "#     D_h1 = tf.nn.relu(tf.matmul(x, D_W1) + D_b1)\n",
    "#     #D_h2 = tf.nn.relu(tf.matmul(D_h1, D_W2) + D_b2)\n",
    "#     D_logit = tf.matmul(D_h1, D_W3) + D_b3\n",
    "#     D_prob = tf.nn.sigmoid(D_logit)\n",
    "    \n",
    "    D_h1 = tf.nn.leaky_relu(tf.nn.conv2d(x, DW_conv1, strides=[1, 2, 2, 1], padding='SAME') + Db_conv1)\n",
    "    D_h2 = tf.nn.leaky_relu(layers.batch_norm(tf.nn.conv2d(D_h1, DW_conv2, strides=[1, 2, 2, 1], padding='SAME') + Db_conv2))\n",
    "    D_h3 = tf.nn.leaky_relu(layers.batch_norm(tf.nn.conv2d(D_h2, DW_conv3, strides=[1, 2, 2, 1], padding='VALID') + Db_conv3))     \n",
    "    #print D_h3.get_shape()\n",
    "#     h_pool_flat = tf.reshape(D_h3,[-1,3*3*128])\n",
    "#     D_h4 = tf.nn.relu(tf.matmul(h_pool_flat, DW_fc4) + Db_fc4)\n",
    "#     D_logit = tf.matmul(D_h4, DW_fc5) + Db_fc5\n",
    "# D_prob = tf.nn.sigmoid(D_logit)\n",
    "    D_logit = tf.nn.conv2d(D_h3, DW_conv4, strides=[1, 2, 2, 1], padding='VALID') + Db_conv4\n",
    "    D_prob = tf.nn.sigmoid(D_h3) #tf.reshape(D_h3, [-1,1])\n",
    "    return D_prob, D_logit"
   ]
  },
  {
   "cell_type": "code",
   "execution_count": 9,
   "metadata": {},
   "outputs": [
    {
     "name": "stdout",
     "output_type": "stream",
     "text": [
      "(?, 14, 14, 16)\n",
      "(?, 784)\n"
     ]
    }
   ],
   "source": [
    "G_sample = generator(Z)\n",
    "D_real, D_logit_real = discriminator(tf.reshape(X,[-1,28,28,1]) )\n",
    "D_fake, D_logit_fake = discriminator(tf.reshape(G_sample,[-1,28,28,1]))"
   ]
  },
  {
   "cell_type": "code",
   "execution_count": 10,
   "metadata": {
    "collapsed": true
   },
   "outputs": [],
   "source": [
    "# Alternative losses:\n",
    "# -------------------\n",
    "D_loss_real = tf.reduce_mean(tf.nn.sigmoid_cross_entropy_with_logits(logits=D_logit_real, labels=tf.ones_like(D_logit_real)))\n",
    "D_loss_fake = tf.reduce_mean(tf.nn.sigmoid_cross_entropy_with_logits(logits=D_logit_fake, labels=tf.zeros_like(D_logit_fake)))\n",
    "D_loss = D_loss_real + D_loss_fake\n",
    "G_loss = tf.reduce_mean(tf.nn.sigmoid_cross_entropy_with_logits(logits=D_logit_fake, labels=tf.ones_like(D_logit_fake)))\n",
    "\n",
    "D_solver = tf.train.AdamOptimizer(learning_rate=0.0001).minimize(D_loss, var_list=theta_D)\n",
    "G_solver = tf.train.AdamOptimizer(learning_rate=0.001).minimize(G_loss, var_list=theta_G)"
   ]
  },
  {
   "cell_type": "code",
   "execution_count": 11,
   "metadata": {
    "collapsed": true
   },
   "outputs": [],
   "source": [
    "if not os.path.exists('out/'):\n",
    "    os.makedirs('out/')"
   ]
  },
  {
   "cell_type": "code",
   "execution_count": null,
   "metadata": {},
   "outputs": [
    {
     "name": "stdout",
     "output_type": "stream",
     "text": [
      "Iter: 0; D loss: 1.613;  G_loss: 1.683\n",
      "Iter: 1000; D loss: 0.7623;  G_loss: 1.685\n",
      "Iter: 2000; D loss: 1.015;  G_loss: 1.405\n",
      "Iter: 3000; D loss: 1.07;  G_loss: 1.245\n",
      "Iter: 4000; D loss: 1.319;  G_loss: 0.993\n",
      "Iter: 5000; D loss: 1.322;  G_loss: 1.083\n",
      "Iter: 6000; D loss: 1.108;  G_loss: 1.126\n",
      "Iter: 7000; D loss: 1.219;  G_loss: 0.9769\n",
      "Iter: 8000; D loss: 1.029;  G_loss: 1.205\n",
      "Iter: 9000; D loss: 0.9653;  G_loss: 1.09\n",
      "Iter: 10000; D loss: 0.8873;  G_loss: 1.189\n",
      "Iter: 11000; D loss: 1.031;  G_loss: 1.312\n",
      "Iter: 12000; D loss: 0.8579;  G_loss: 1.103\n",
      "Iter: 13000; D loss: 0.8146;  G_loss: 1.105\n",
      "Iter: 14000; D loss: 0.7862;  G_loss: 1.568\n",
      "Iter: 15000; D loss: 0.7541;  G_loss: 1.644\n",
      "Iter: 16000; D loss: 0.7084;  G_loss: 1.81\n"
     ]
    }
   ],
   "source": [
    "with tf.Session() as sess:\n",
    "    gpu_options = tf.GPUOptions()\n",
    "    gpu_options.allow_growth=True \n",
    "    sess = tf.Session(config=tf.ConfigProto(gpu_options=gpu_options,\n",
    "        allow_soft_placement=True))\n",
    "    saver = tf.train.Saver()\n",
    "    sess.run(tf.global_variables_initializer())\n",
    "\n",
    "    i = 0\n",
    "    for it in range(50000):\n",
    "        X_mb, _ = mnist.train.next_batch(mb_size)\n",
    "        \n",
    "        if it % 1000 == 0:\n",
    "            samples = sess.run(G_sample, feed_dict={Z: sample_Z(16, Z_dim)})\n",
    "            fig = plot(samples,4)\n",
    "            plt.savefig('out/{}.png'.format(str(i).zfill(3)), bbox_inches='tight')\n",
    "            i += 1\n",
    "            plt.close(fig)\n",
    "        \n",
    "            fig = plot(X_mb,12)\n",
    "            plt.savefig('mini_batch/{}.png'.format(str(i).zfill(3)), bbox_inches='tight')\n",
    "            plt.close(fig)\n",
    "\n",
    "        #print X_mb.shape\n",
    "\n",
    "        _, D_loss_curr = sess.run([D_solver, D_loss], feed_dict={X: X_mb, Z: sample_Z(mb_size, Z_dim)})\n",
    "        if it < 00:\n",
    "            for it_G in range(5):\n",
    "              _, G_loss_curr = sess.run([G_solver, G_loss], feed_dict={Z: sample_Z(mb_size, Z_dim)})\n",
    "        else:\n",
    "            _, G_loss_curr = sess.run([G_solver, G_loss], feed_dict={Z: sample_Z(mb_size, Z_dim)})\n",
    "\n",
    "\n",
    "        if it % 1000 == 0:\n",
    "            print('Iter: {}; D loss: {:.4};  G_loss: {:.4}'.format(it, D_loss_curr, G_loss_curr))\n",
    "            save_model(None, saver, sess, it)"
   ]
  },
  {
   "cell_type": "code",
   "execution_count": null,
   "metadata": {
    "collapsed": true,
    "scrolled": true
   },
   "outputs": [],
   "source": [
    "with tf.Session() as sess:\n",
    "    saver = tf.train.Saver()\n",
    "    saver.restore(sess, \"model/myckpt-49000\")\n",
    "#     sess.run(tf.initialize_all_variables())\n",
    "#     print(sess.run(tf.global_variables()))\n",
    "    \n",
    "    # Returns all variables created with trainable=True in a var_list\n",
    "    var_list = tf.trainable_variables()\n",
    "    print(\"Trainable variables:------------------------\")\n",
    "    \n",
    "    # 取出所有可训练参数的索引、形状和名称\n",
    "    for idx, v in enumerate(var_list):\n",
    "        print(\"param {:3}: {:15}   {}\".format(idx, str(v.get_shape()), v.name))\n",
    "        np.save('variable/'+str(idx)+'.npy',sess.run(var_list[idx].name))\n",
    "#     print()\n",
    "    #np.save(\"v1.npy\",sess.run(v))"
   ]
  },
  {
   "cell_type": "code",
   "execution_count": 15,
   "metadata": {},
   "outputs": [
    {
     "name": "stdout",
     "output_type": "stream",
     "text": [
      "INFO:tensorflow:Restoring parameters from model/myckpt-49000\n"
     ]
    }
   ],
   "source": [
    "with tf.Session() as sess:\n",
    "    saver = tf.train.Saver()\n",
    "    saver.restore(sess, \"model/myckpt-49000\")\n",
    "#     sess.run(tf.initialize_all_variables())\n",
    "#     print(sess.run(tf.global_variables()))\n",
    "    for i in range(10):\n",
    "        samples = sess.run(G_sample, feed_dict={Z: sample_Z(100, Z_dim)})\n",
    "        \n",
    "        fig = plot(samples,10)\n",
    "        plt.savefig('sample_gen/{}.png'.format(str(i).zfill(3)), bbox_inches='tight')\n",
    "        plt.close(fig)"
   ]
  },
  {
   "cell_type": "code",
   "execution_count": null,
   "metadata": {
    "collapsed": true
   },
   "outputs": [],
   "source": []
  }
 ],
 "metadata": {
  "kernelspec": {
   "display_name": "Python 2",
   "language": "python",
   "name": "python2"
  },
  "language_info": {
   "codemirror_mode": {
    "name": "ipython",
    "version": 2
   },
   "file_extension": ".py",
   "mimetype": "text/x-python",
   "name": "python",
   "nbconvert_exporter": "python",
   "pygments_lexer": "ipython2",
   "version": "2.7.13"
  }
 },
 "nbformat": 4,
 "nbformat_minor": 2
}
